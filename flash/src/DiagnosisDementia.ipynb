{
 "cells": [
  {
   "cell_type": "code",
   "execution_count": 1,
   "id": "21e6b54f",
   "metadata": {},
   "outputs": [
    {
     "name": "stdout",
     "output_type": "stream",
     "text": [
      "importing Jupyter notebook from BERT_TEST.ipynb\n",
      "TEST\n"
     ]
    }
   ],
   "source": [
    "import import_ipynb\n",
    "import BERT_TEST\n",
    "\n",
    "print(BERT_TEST.Test())\n",
    "\n",
    "#학습된 모델 가져오기\n",
    "# BERT_TEST.getModel()\n",
    "\n",
    "#새로운 문장 들어올 시 치매 판단\n",
    "# 1이면 치매의심, 0이면 일반\n",
    "# BERT_TEST.newSentence(\"문장\")"
   ]
  },
  {
   "cell_type": "code",
   "execution_count": 7,
   "id": "1c122a6c",
   "metadata": {},
   "outputs": [
    {
     "data": {
      "text/plain": [
       "0.2"
      ]
     },
     "execution_count": 7,
     "metadata": {},
     "output_type": "execute_result"
    }
   ],
   "source": []
  },
  {
   "cell_type": "code",
   "execution_count": 1,
   "id": "caaba3a9",
   "metadata": {},
   "outputs": [
    {
     "data": {
      "text/plain": [
       "<Task pending name='Task-4' coro=<main() running at C:\\Users\\shinheeeul\\AppData\\Local\\Temp\\ipykernel_6356\\3263070942.py:8>>"
      ]
     },
     "execution_count": 1,
     "metadata": {},
     "output_type": "execute_result"
    },
    {
     "name": "stdout",
     "output_type": "stream",
     "text": [
      "[안녕하세요. 저는 김혜원입니다.\n",
      "그렇군요. 저는 건국대학교에 재학 중이고요 영어 영문학과를 전공하고 있습니다. 희은 님은 어떤 학과를 전공하고 계신가요\n",
      "그렇습니까 컴퓨터 공학부는 재밌습니까\n",
      "영어영문학과는 여러 가지 연리 문학과 문법 등을 배울 수 있어서 매우 흥미로운 학과입니다.\n",
      "그렇다면 어 영문학과를 복수 전공해보는 건 어떠세요.\n",
      "하하\n",
      "흥미가 있으신 줄 알았어요. 그렇다면 죄송합니다.]\n",
      "\n",
      "val : 0.8\n",
      "success\n",
      "[안녕하세요. 저는 김혜원입니다.\n",
      "그렇군요. 저는 건국대학교에 재학 중이고요 영어 영문학과를 전공하고 있습니다. 희은 님은 어떤 학과를 전공하고 계신가요\n",
      "그렇습니까 컴퓨터 공학부는 재밌습니까\n",
      "영어영문학과는 여러 가지 연리 문학과 문법 등을 배울 수 있어서 매우 흥미로운 학과입니다.\n",
      "그렇다면 어 영문학과를 복수 전공해보는 건 어떠세요.\n",
      "하하\n",
      "흥미가 있으신 줄 알았어요. 그렇다면 죄송합니다.]\n",
      "\n",
      "val : 0.5\n",
      "success\n",
      "[안녕하세요. 저는 김혜원입니다.\n",
      "그렇군요. 저는 건국대학교에 재학 중이고요 영어 영문학과를 전공하고 있습니다. 희은 님은 어떤 학과를 전공하고 계신가요\n",
      "그렇습니까 컴퓨터 공학부는 재밌습니까\n",
      "영어영문학과는 여러 가지 연리 문학과 문법 등을 배울 수 있어서 매우 흥미로운 학과입니다.\n",
      "그렇다면 어 영문학과를 복수 전공해보는 건 어떠세요.\n",
      "하하\n",
      "흥미가 있으신 줄 알았어요. 그렇다면 죄송합니다.]\n",
      "\n",
      "val : 0.4\n",
      "success\n"
     ]
    },
    {
     "name": "stderr",
     "output_type": "stream",
     "text": [
      "connection handler failed\n",
      "Traceback (most recent call last):\n",
      "  File \"C:\\Users\\shinheeeul\\anaconda3\\lib\\site-packages\\websockets\\legacy\\protocol.py\", line 968, in transfer_data\n",
      "    message = await self.read_message()\n",
      "  File \"C:\\Users\\shinheeeul\\anaconda3\\lib\\site-packages\\websockets\\legacy\\protocol.py\", line 1038, in read_message\n",
      "    frame = await self.read_data_frame(max_size=self.max_size)\n",
      "  File \"C:\\Users\\shinheeeul\\anaconda3\\lib\\site-packages\\websockets\\legacy\\protocol.py\", line 1113, in read_data_frame\n",
      "    frame = await self.read_frame(max_size)\n",
      "  File \"C:\\Users\\shinheeeul\\anaconda3\\lib\\site-packages\\websockets\\legacy\\protocol.py\", line 1170, in read_frame\n",
      "    frame = await Frame.read(\n",
      "  File \"C:\\Users\\shinheeeul\\anaconda3\\lib\\site-packages\\websockets\\legacy\\framing.py\", line 69, in read\n",
      "    data = await reader(2)\n",
      "  File \"C:\\Users\\shinheeeul\\anaconda3\\lib\\asyncio\\streams.py\", line 723, in readexactly\n",
      "    await self._wait_for_data('readexactly')\n",
      "  File \"C:\\Users\\shinheeeul\\anaconda3\\lib\\asyncio\\streams.py\", line 517, in _wait_for_data\n",
      "    await self._waiter\n",
      "  File \"C:\\Users\\shinheeeul\\anaconda3\\lib\\asyncio\\selector_events.py\", line 854, in _read_ready__data_received\n",
      "    data = self._sock.recv(self.max_size)\n",
      "ConnectionResetError: [WinError 10054] 현재 연결은 원격 호스트에 의해 강제로 끊겼습니다\n",
      "\n",
      "The above exception was the direct cause of the following exception:\n",
      "\n",
      "Traceback (most recent call last):\n",
      "  File \"C:\\Users\\shinheeeul\\anaconda3\\lib\\site-packages\\websockets\\legacy\\server.py\", line 236, in handler\n",
      "    await self.ws_handler(self)\n",
      "  File \"C:\\Users\\shinheeeul\\anaconda3\\lib\\site-packages\\websockets\\legacy\\server.py\", line 1175, in _ws_handler\n",
      "    return await cast(\n",
      "  File \"C:\\Users\\shinheeeul\\AppData\\Local\\Temp\\ipykernel_6356\\3263070942.py\", line 13, in echo\n",
      "    async for message in websocket:\n",
      "  File \"C:\\Users\\shinheeeul\\anaconda3\\lib\\site-packages\\websockets\\legacy\\protocol.py\", line 497, in __aiter__\n",
      "    yield await self.recv()\n",
      "  File \"C:\\Users\\shinheeeul\\anaconda3\\lib\\site-packages\\websockets\\legacy\\protocol.py\", line 568, in recv\n",
      "    await self.ensure_open()\n",
      "  File \"C:\\Users\\shinheeeul\\anaconda3\\lib\\site-packages\\websockets\\legacy\\protocol.py\", line 944, in ensure_open\n",
      "    raise self.connection_closed_exc()\n",
      "websockets.exceptions.ConnectionClosedError: no close frame received or sent\n",
      "connection handler failed\n",
      "Traceback (most recent call last):\n",
      "  File \"C:\\Users\\shinheeeul\\anaconda3\\lib\\site-packages\\websockets\\legacy\\protocol.py\", line 968, in transfer_data\n",
      "    message = await self.read_message()\n",
      "  File \"C:\\Users\\shinheeeul\\anaconda3\\lib\\site-packages\\websockets\\legacy\\protocol.py\", line 1038, in read_message\n",
      "    frame = await self.read_data_frame(max_size=self.max_size)\n",
      "  File \"C:\\Users\\shinheeeul\\anaconda3\\lib\\site-packages\\websockets\\legacy\\protocol.py\", line 1113, in read_data_frame\n",
      "    frame = await self.read_frame(max_size)\n",
      "  File \"C:\\Users\\shinheeeul\\anaconda3\\lib\\site-packages\\websockets\\legacy\\protocol.py\", line 1170, in read_frame\n",
      "    frame = await Frame.read(\n",
      "  File \"C:\\Users\\shinheeeul\\anaconda3\\lib\\site-packages\\websockets\\legacy\\framing.py\", line 69, in read\n",
      "    data = await reader(2)\n",
      "  File \"C:\\Users\\shinheeeul\\anaconda3\\lib\\asyncio\\streams.py\", line 723, in readexactly\n",
      "    await self._wait_for_data('readexactly')\n",
      "  File \"C:\\Users\\shinheeeul\\anaconda3\\lib\\asyncio\\streams.py\", line 517, in _wait_for_data\n",
      "    await self._waiter\n",
      "  File \"C:\\Users\\shinheeeul\\anaconda3\\lib\\asyncio\\selector_events.py\", line 854, in _read_ready__data_received\n",
      "    data = self._sock.recv(self.max_size)\n",
      "ConnectionResetError: [WinError 10054] 현재 연결은 원격 호스트에 의해 강제로 끊겼습니다\n",
      "\n",
      "The above exception was the direct cause of the following exception:\n",
      "\n",
      "Traceback (most recent call last):\n",
      "  File \"C:\\Users\\shinheeeul\\anaconda3\\lib\\site-packages\\websockets\\legacy\\server.py\", line 236, in handler\n",
      "    await self.ws_handler(self)\n",
      "  File \"C:\\Users\\shinheeeul\\anaconda3\\lib\\site-packages\\websockets\\legacy\\server.py\", line 1175, in _ws_handler\n",
      "    return await cast(\n",
      "  File \"C:\\Users\\shinheeeul\\AppData\\Local\\Temp\\ipykernel_6356\\3263070942.py\", line 13, in echo\n",
      "    async for message in websocket:\n",
      "  File \"C:\\Users\\shinheeeul\\anaconda3\\lib\\site-packages\\websockets\\legacy\\protocol.py\", line 497, in __aiter__\n",
      "    yield await self.recv()\n",
      "  File \"C:\\Users\\shinheeeul\\anaconda3\\lib\\site-packages\\websockets\\legacy\\protocol.py\", line 568, in recv\n",
      "    await self.ensure_open()\n",
      "  File \"C:\\Users\\shinheeeul\\anaconda3\\lib\\site-packages\\websockets\\legacy\\protocol.py\", line 944, in ensure_open\n",
      "    raise self.connection_closed_exc()\n",
      "websockets.exceptions.ConnectionClosedError: no close frame received or sent\n",
      "connection handler failed\n",
      "Traceback (most recent call last):\n",
      "  File \"C:\\Users\\shinheeeul\\anaconda3\\lib\\site-packages\\websockets\\legacy\\protocol.py\", line 968, in transfer_data\n",
      "    message = await self.read_message()\n",
      "  File \"C:\\Users\\shinheeeul\\anaconda3\\lib\\site-packages\\websockets\\legacy\\protocol.py\", line 1038, in read_message\n",
      "    frame = await self.read_data_frame(max_size=self.max_size)\n",
      "  File \"C:\\Users\\shinheeeul\\anaconda3\\lib\\site-packages\\websockets\\legacy\\protocol.py\", line 1113, in read_data_frame\n",
      "    frame = await self.read_frame(max_size)\n",
      "  File \"C:\\Users\\shinheeeul\\anaconda3\\lib\\site-packages\\websockets\\legacy\\protocol.py\", line 1170, in read_frame\n",
      "    frame = await Frame.read(\n",
      "  File \"C:\\Users\\shinheeeul\\anaconda3\\lib\\site-packages\\websockets\\legacy\\framing.py\", line 69, in read\n",
      "    data = await reader(2)\n",
      "  File \"C:\\Users\\shinheeeul\\anaconda3\\lib\\asyncio\\streams.py\", line 723, in readexactly\n",
      "    await self._wait_for_data('readexactly')\n",
      "  File \"C:\\Users\\shinheeeul\\anaconda3\\lib\\asyncio\\streams.py\", line 517, in _wait_for_data\n",
      "    await self._waiter\n",
      "  File \"C:\\Users\\shinheeeul\\anaconda3\\lib\\asyncio\\selector_events.py\", line 854, in _read_ready__data_received\n",
      "    data = self._sock.recv(self.max_size)\n",
      "ConnectionResetError: [WinError 10054] 현재 연결은 원격 호스트에 의해 강제로 끊겼습니다\n",
      "\n",
      "The above exception was the direct cause of the following exception:\n",
      "\n",
      "Traceback (most recent call last):\n",
      "  File \"C:\\Users\\shinheeeul\\anaconda3\\lib\\site-packages\\websockets\\legacy\\server.py\", line 236, in handler\n",
      "    await self.ws_handler(self)\n",
      "  File \"C:\\Users\\shinheeeul\\anaconda3\\lib\\site-packages\\websockets\\legacy\\server.py\", line 1175, in _ws_handler\n",
      "    return await cast(\n",
      "  File \"C:\\Users\\shinheeeul\\AppData\\Local\\Temp\\ipykernel_6356\\3263070942.py\", line 13, in echo\n",
      "    async for message in websocket:\n",
      "  File \"C:\\Users\\shinheeeul\\anaconda3\\lib\\site-packages\\websockets\\legacy\\protocol.py\", line 497, in __aiter__\n",
      "    yield await self.recv()\n",
      "  File \"C:\\Users\\shinheeeul\\anaconda3\\lib\\site-packages\\websockets\\legacy\\protocol.py\", line 568, in recv\n",
      "    await self.ensure_open()\n",
      "  File \"C:\\Users\\shinheeeul\\anaconda3\\lib\\site-packages\\websockets\\legacy\\protocol.py\", line 944, in ensure_open\n",
      "    raise self.connection_closed_exc()\n",
      "websockets.exceptions.ConnectionClosedError: no close frame received or sent\n"
     ]
    }
   ],
   "source": [
    "import asyncio\n",
    "import websockets\n",
    "import random\n",
    "\n",
    "def randomVal():\n",
    "    return random.randrange(1,10)/10.0;\n",
    "\n",
    "async def main():\n",
    "    async with websockets.serve(echo, \"localhost\", 8765):\n",
    "        await asyncio.Future()  # 서버가 계속 실행되도록 대기\n",
    "\n",
    "async def echo(websocket, path):\n",
    "    async for message in websocket:\n",
    "        # 처리\n",
    "        print(message)\n",
    "        val = randomVal()\n",
    "        await websocket.send(str(val))\n",
    "        print(\"val : \" + str(val))\n",
    "        print(\"success\")\n",
    "\n",
    "# 현재 실행 중인 이벤트 루프 가져오기\n",
    "loop = asyncio.get_event_loop()\n",
    "\n",
    "# 이벤트 루프에서 비동기 코드 실행\n",
    "loop.create_task(main())\n"
   ]
  },
  {
   "cell_type": "code",
   "execution_count": null,
   "id": "e1bac5ad",
   "metadata": {},
   "outputs": [],
   "source": []
  }
 ],
 "metadata": {
  "kernelspec": {
   "display_name": "Python 3 (ipykernel)",
   "language": "python",
   "name": "python3"
  },
  "language_info": {
   "codemirror_mode": {
    "name": "ipython",
    "version": 3
   },
   "file_extension": ".py",
   "mimetype": "text/x-python",
   "name": "python",
   "nbconvert_exporter": "python",
   "pygments_lexer": "ipython3",
   "version": "3.9.16"
  }
 },
 "nbformat": 4,
 "nbformat_minor": 5
}
