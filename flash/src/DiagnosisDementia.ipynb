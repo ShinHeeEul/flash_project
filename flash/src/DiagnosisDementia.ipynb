{
 "cells": [
  {
   "cell_type": "code",
   "execution_count": 1,
   "id": "21e6b54f",
   "metadata": {},
   "outputs": [
    {
     "name": "stdout",
     "output_type": "stream",
     "text": [
      "importing Jupyter notebook from BERT_TEST.ipynb\n",
      "TEST\n"
     ]
    }
   ],
   "source": [
    "import import_ipynb\n",
    "import BERT_TEST\n",
    "\n",
    "print(BERT_TEST.Test())\n",
    "\n",
    "#학습된 모델 가져오기\n",
    "# BERT_TEST.getModel()\n",
    "\n",
    "#새로운 문장 들어올 시 치매 판단\n",
    "# 1이면 치매의심, 0이면 일반\n",
    "# BERT_TEST.newSentence(\"문장\")"
   ]
  },
  {
   "cell_type": "code",
   "execution_count": 2,
   "id": "caaba3a9",
   "metadata": {},
   "outputs": [
    {
     "data": {
      "text/plain": [
       "<Task pending name='Task-11' coro=<main() running at C:\\Users\\shinheeeul\\AppData\\Local\\Temp\\ipykernel_20680\\1333942906.py:6>>"
      ]
     },
     "execution_count": 2,
     "metadata": {},
     "output_type": "execute_result"
    },
    {
     "name": "stdout",
     "output_type": "stream",
     "text": [
      "ㅇㄹ다.]\n",
      "[김혜영 씨시군요. 반갑습니다. 저는 신희을이라고 합니다.]\n",
      "[저는 컴퓨터 공학부에 재학 중에 있습니다.]\n",
      "[많이 힘듭니다. 영문학과는 좀 어떻습니까]\n",
      "[그렇군요. 정말 흥미로운 학과인 것 같습니다.]\n",
      "[갑자기 그렇게 가버리면 그렇게 가버리시면 제가 좀 곤란합니다.]\n",
      "\n"
     ]
    }
   ],
   "source": [
    "import asyncio\n",
    "import websockets\n",
    "\n",
    "\n",
    "\n",
    "async def main():\n",
    "    async with websockets.serve(echo, \"localhost\", 8765):\n",
    "        await asyncio.Future()  # 서버가 계속 실행되도록 대기\n",
    "        \n",
    "async def echo(websocket, path):\n",
    "    async for message in websocket:\n",
    "        #처리\n",
    "        print(message)\n",
    "        \n",
    "        await websocket.send(\"0.75\")\n",
    "\n",
    "# 현재 실행 중인 이벤트 루프 가져오기\n",
    "loop = asyncio.get_event_loop()\n",
    "\n",
    "# 이벤트 루프에서 비동기 코드 실행\n",
    "loop.create_task(main())"
   ]
  },
  {
   "cell_type": "code",
   "execution_count": null,
   "id": "e1bac5ad",
   "metadata": {},
   "outputs": [],
   "source": []
  }
 ],
 "metadata": {
  "kernelspec": {
   "display_name": "Python 3 (ipykernel)",
   "language": "python",
   "name": "python3"
  },
  "language_info": {
   "codemirror_mode": {
    "name": "ipython",
    "version": 3
   },
   "file_extension": ".py",
   "mimetype": "text/x-python",
   "name": "python",
   "nbconvert_exporter": "python",
   "pygments_lexer": "ipython3",
   "version": "3.9.16"
  }
 },
 "nbformat": 4,
 "nbformat_minor": 5
}
