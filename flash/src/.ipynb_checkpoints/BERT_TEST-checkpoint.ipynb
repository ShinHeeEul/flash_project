{
 "cells": [
  {
   "cell_type": "code",
   "execution_count": 17,
   "id": "f415fc93",
   "metadata": {},
   "outputs": [],
   "source": [
    "#-*-coding:utf-8 -*-"
   ]
  },
  {
   "cell_type": "code",
   "execution_count": 8,
   "id": "1e4414ea",
   "metadata": {},
   "outputs": [],
   "source": [
    "import torch\n",
    "import tensorflow as tf\n",
    "\n",
    "from transformers import BertTokenizer\n",
    "from transformers import BertForSequenceClassification, AdamW, BertConfig\n",
    "from transformers import get_linear_schedule_with_warmup\n",
    "#에러 발생시 위 코드 주석으로 대체\n",
    "#from transformers import WarmupLinearSchedule as get_linear_schedule_with_warmup\n",
    "from torch.utils.data import TensorDataset, DataLoader, RandomSampler, SequentialSampler\n",
    "from keras_preprocessing.sequence import pad_sequences\n",
    "from sklearn.model_selection import train_test_split\n",
    "\n",
    "import pandas as pd\n",
    "import numpy as np\n",
    "import random\n",
    "import time\n",
    "import datetime\n",
    "\n",
    "import csv"
   ]
  },
  {
   "cell_type": "code",
   "execution_count": 9,
   "id": "fc45d04e",
   "metadata": {},
   "outputs": [
    {
     "name": "stdout",
     "output_type": "stream",
     "text": [
      "0\n"
     ]
    }
   ],
   "source": [
    "n_devices = torch.cuda.device_count()\n",
    "print(n_devices)"
   ]
  },
  {
   "cell_type": "code",
   "execution_count": 10,
   "id": "ad835051",
   "metadata": {},
   "outputs": [],
   "source": [
    "for i in range(n_devices):\n",
    "    print(torch.cuda.get_device_name(i))"
   ]
  },
  {
   "cell_type": "code",
   "execution_count": 11,
   "id": "bc1a11c3",
   "metadata": {},
   "outputs": [
    {
     "ename": "TypeError",
     "evalue": "read_csv() missing 1 required positional argument: 'filepath_or_buffer'",
     "output_type": "error",
     "traceback": [
      "\u001b[1;31m---------------------------------------------------------------------------\u001b[0m",
      "\u001b[1;31mTypeError\u001b[0m                                 Traceback (most recent call last)",
      "Cell \u001b[1;32mIn[11], line 5\u001b[0m\n\u001b[0;32m      2\u001b[0m \u001b[38;5;28;01mimport\u001b[39;00m \u001b[38;5;21;01mpandas\u001b[39;00m \u001b[38;5;28;01mas\u001b[39;00m \u001b[38;5;21;01mpd\u001b[39;00m\n\u001b[0;32m      4\u001b[0m \u001b[38;5;66;03m#데이터 읽어오기, csv파일 위치 추가\u001b[39;00m\n\u001b[1;32m----> 5\u001b[0m chatbot_data \u001b[38;5;241m=\u001b[39m \u001b[43mpd\u001b[49m\u001b[38;5;241;43m.\u001b[39;49m\u001b[43mread_csv\u001b[49m\u001b[43m(\u001b[49m\u001b[43m)\u001b[49m\n\u001b[0;32m      6\u001b[0m \u001b[38;5;66;03m#데이터 밸런싱을 신경써서 섞기\u001b[39;00m\n\u001b[0;32m      7\u001b[0m chatbot_data_shuffled \u001b[38;5;241m=\u001b[39m chatbot_data\u001b[38;5;241m.\u001b[39msample(frace\u001b[38;5;241m=\u001b[39m\u001b[38;5;241m1\u001b[39m)\u001b[38;5;241m.\u001b[39mreset_index(drop\u001b[38;5;241m=\u001b[39m\u001b[38;5;28;01mTrue\u001b[39;00m)\n",
      "File \u001b[1;32m~\\anaconda3\\lib\\site-packages\\pandas\\util\\_decorators.py:211\u001b[0m, in \u001b[0;36mdeprecate_kwarg.<locals>._deprecate_kwarg.<locals>.wrapper\u001b[1;34m(*args, **kwargs)\u001b[0m\n\u001b[0;32m    209\u001b[0m     \u001b[38;5;28;01melse\u001b[39;00m:\n\u001b[0;32m    210\u001b[0m         kwargs[new_arg_name] \u001b[38;5;241m=\u001b[39m new_arg_value\n\u001b[1;32m--> 211\u001b[0m \u001b[38;5;28;01mreturn\u001b[39;00m func(\u001b[38;5;241m*\u001b[39margs, \u001b[38;5;241m*\u001b[39m\u001b[38;5;241m*\u001b[39mkwargs)\n",
      "File \u001b[1;32m~\\anaconda3\\lib\\site-packages\\pandas\\util\\_decorators.py:331\u001b[0m, in \u001b[0;36mdeprecate_nonkeyword_arguments.<locals>.decorate.<locals>.wrapper\u001b[1;34m(*args, **kwargs)\u001b[0m\n\u001b[0;32m    325\u001b[0m \u001b[38;5;28;01mif\u001b[39;00m \u001b[38;5;28mlen\u001b[39m(args) \u001b[38;5;241m>\u001b[39m num_allow_args:\n\u001b[0;32m    326\u001b[0m     warnings\u001b[38;5;241m.\u001b[39mwarn(\n\u001b[0;32m    327\u001b[0m         msg\u001b[38;5;241m.\u001b[39mformat(arguments\u001b[38;5;241m=\u001b[39m_format_argument_list(allow_args)),\n\u001b[0;32m    328\u001b[0m         \u001b[38;5;167;01mFutureWarning\u001b[39;00m,\n\u001b[0;32m    329\u001b[0m         stacklevel\u001b[38;5;241m=\u001b[39mfind_stack_level(),\n\u001b[0;32m    330\u001b[0m     )\n\u001b[1;32m--> 331\u001b[0m \u001b[38;5;28;01mreturn\u001b[39;00m func(\u001b[38;5;241m*\u001b[39margs, \u001b[38;5;241m*\u001b[39m\u001b[38;5;241m*\u001b[39mkwargs)\n",
      "\u001b[1;31mTypeError\u001b[0m: read_csv() missing 1 required positional argument: 'filepath_or_buffer'"
     ]
    }
   ],
   "source": [
    "import csv\n",
    "import pandas as pd\n",
    "\n",
    "#데이터 읽어오기, csv파일 위치 추가\n",
    "chatbot_data = pd.read_csv()\n",
    "#데이터 밸런싱을 신경써서 섞기\n",
    "chatbot_data_shuffled = chatbot_data.sample(frace=1).reset_index(drop=True)\n",
    "#훈련데이터와 테스트데이터 나누기\n",
    "train = chatbot_data_shuffled[:9000]\n",
    "test = chatbot_data_shuffled[9000:]\n",
    "#문장의 앞마다 [CLS], 문장 종료는 [SEP]를 붙여 인식시킨다.\n",
    "sentences = [\"[CLS] \" + str(s) + \" [SEP]\" for s in train.Q]\n",
    "\n",
    "#제대로 들어갔나 확인\n",
    "#sentences[:5]\n",
    "#0과 1이 들어간 라벨 컬럼은 array에 따로 저장\n",
    "labels = train['label'].values"
   ]
  },
  {
   "cell_type": "code",
   "execution_count": null,
   "id": "f2b7ac86",
   "metadata": {},
   "outputs": [],
   "source": [
    "import pandas as pd\n",
    "from transformers import BertTokenizer\n",
    "\n",
    "#BERT에서 사용하는 토크나이저 WordPiece\n",
    "# 단어를 토큰화할 때, 단어 집합에 없는 단어는 더 쪼개서 ##을 붙여주는 방식\n",
    "tokenizer = BertTokenizer.from_pretrained(\"bert-base-multilingual-cased\",\n",
    "                                          do_lower_case=False)\n",
    "\n",
    "#안녕하세요에 이를 적용\n",
    "#현재 단어집합에 단어가 없으므로 ##을 붙임으로써 \n",
    "#녕하세요가 어떠한 단어의 서브워드라는 것을 나타내줌\n",
    "result = tokenizer.tokenize(\"안녕하세요\")\n",
    "print(result)\n",
    "\n",
    "#WordPiece 토크나이저를 이용해 전체 데이터에 토크나이징 수행\n",
    "tokenizer = BertTokenizer.from_pretrained('bert-base-multingual-cased',\n",
    "                                         do_lower_case=False)\n",
    "tokenized_texts = [tokenizer.tokenize(s) for s in sentences]\n",
    "\n",
    "print(sentences[0])  #토크나이징 전\n",
    "print(tokenized_texts[0]) #토크나이징 후"
   ]
  },
  {
   "cell_type": "code",
   "execution_count": 1,
   "id": "80c9f817",
   "metadata": {},
   "outputs": [
    {
     "data": {
      "text/plain": [
       "<Task pending name='Task-4' coro=<main() running at C:\\Users\\shinheeeul\\AppData\\Local\\Temp\\ipykernel_21516\\1987356996.py:13>>"
      ]
     },
     "execution_count": 1,
     "metadata": {},
     "output_type": "execute_result"
    },
    {
     "name": "stderr",
     "output_type": "stream",
     "text": [
      "connection handler failed\n",
      "Traceback (most recent call last):\n",
      "  File \"C:\\Users\\shinheeeul\\anaconda3\\lib\\site-packages\\websockets\\legacy\\server.py\", line 236, in handler\n",
      "    await self.ws_handler(self)\n",
      "  File \"C:\\Users\\shinheeeul\\anaconda3\\lib\\site-packages\\websockets\\legacy\\server.py\", line 1175, in _ws_handler\n",
      "    return await cast(\n",
      "  File \"C:\\Users\\shinheeeul\\AppData\\Local\\Temp\\ipykernel_21516\\1987356996.py\", line 11, in echo\n",
      "    await websocket.send(f\"Message text was: {data}\")\n",
      "NameError: name 'data' is not defined\n"
     ]
    },
    {
     "name": "stdout",
     "output_type": "stream",
     "text": [
      "test\n"
     ]
    }
   ],
   "source": [
    "import asyncio\n",
    "import websockets\n",
    "\n",
    "\n",
    "\n",
    "async def echo(websocket, path):\n",
    "    async for message in websocket:\n",
    "        print(message)\n",
    "        # message를 분석하여 주피터 노트북으로 값을 전달하는 코드 작성\n",
    "        #분석\n",
    "        await websocket.send_text(f\"Message text was: {data}\")\n",
    "\n",
    "async def main():\n",
    "    async with websockets.serve(echo, \"localhost\", 8765):\n",
    "        await asyncio.Future()  # 서버가 계속 실행되도록 대기\n",
    "\n",
    "# 현재 실행 중인 이벤트 루프 가져오기\n",
    "loop = asyncio.get_event_loop()\n",
    "\n",
    "# 이벤트 루프에서 비동기 코드 실행\n",
    "loop.create_task(main())"
   ]
  },
  {
   "cell_type": "code",
   "execution_count": null,
   "id": "a3562665",
   "metadata": {},
   "outputs": [],
   "source": []
  },
  {
   "cell_type": "code",
   "execution_count": null,
   "id": "a8d9dda5",
   "metadata": {},
   "outputs": [],
   "source": []
  }
 ],
 "metadata": {
  "kernelspec": {
   "display_name": "Python 3 (ipykernel)",
   "language": "python",
   "name": "python3"
  },
  "language_info": {
   "codemirror_mode": {
    "name": "ipython",
    "version": 3
   },
   "file_extension": ".py",
   "mimetype": "text/x-python",
   "name": "python",
   "nbconvert_exporter": "python",
   "pygments_lexer": "ipython3",
   "version": "3.9.16"
  }
 },
 "nbformat": 4,
 "nbformat_minor": 5
}
