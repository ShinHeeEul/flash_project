{
 "cells": [
  {
   "cell_type": "code",
   "execution_count": 17,
   "id": "87126365",
   "metadata": {},
   "outputs": [],
   "source": [
    "#-*-coding:utf-8 -*-"
   ]
  },
  {
   "cell_type": "code",
   "execution_count": 1,
   "id": "a4cc5374",
   "metadata": {},
   "outputs": [],
   "source": [
    "import torch\n",
    "import tensorflow as tf\n",
    "\n",
    "from transformers import BertTokenizer\n",
    "from transformers import BertForSequenceClassification, AdamW, BertConfig\n",
    "from transformers import get_linear_schedule_with_warmup\n",
    "from torch.utils.data import TensorDataset, DataLoader, RandomSampler, SequentialSampler\n",
    "from keras_preprocessing.sequence import pad_sequences\n",
    "from sklearn.model_selection import train_test_split\n",
    "\n",
    "import pandas as pd\n",
    "import numpy as np\n",
    "import random\n",
    "import time\n",
    "import datetime\n",
    "\n",
    "import csv"
   ]
  },
  {
   "cell_type": "code",
   "execution_count": 19,
   "id": "5560141b",
   "metadata": {},
   "outputs": [
    {
     "name": "stdout",
     "output_type": "stream",
     "text": [
      "1\n"
     ]
    }
   ],
   "source": [
    "n_devices = torch.cuda.device_count()\n",
    "print(n_devices)"
   ]
  },
  {
   "cell_type": "code",
   "execution_count": 20,
   "id": "4d03626e",
   "metadata": {},
   "outputs": [
    {
     "name": "stdout",
     "output_type": "stream",
     "text": [
      "NVIDIA GeForce MX450\n"
     ]
    }
   ],
   "source": [
    "for i in range(n_devices):\n",
    "    print(torch.cuda.get_device_name(i))"
   ]
  },
  {
   "cell_type": "code",
   "execution_count": 23,
   "id": "df6d8c90",
   "metadata": {},
   "outputs": [],
   "source": [
    "#from google.colab import drive\n",
    "#drive.mount('/content/drive')"
   ]
  },
  {
   "cell_type": "code",
   "execution_count": 14,
   "id": "40aac4db",
   "metadata": {},
   "outputs": [],
   "source": [
    "import os\n",
    "\n",
    "from django.core.wsgi import get_wsgi_application\n",
    "import wsgiref.util as ws"
   ]
  },
  {
   "cell_type": "code",
   "execution_count": 13,
   "id": "016a4353",
   "metadata": {},
   "outputs": [
    {
     "ename": "NameError",
     "evalue": "name 'env' is not defined",
     "output_type": "error",
     "traceback": [
      "\u001b[1;31m---------------------------------------------------------------------------\u001b[0m",
      "\u001b[1;31mNameError\u001b[0m                                 Traceback (most recent call last)",
      "Cell \u001b[1;32mIn[13], line 1\u001b[0m\n\u001b[1;32m----> 1\u001b[0m post_env \u001b[38;5;241m=\u001b[39m \u001b[43menv\u001b[49m\u001b[38;5;241m.\u001b[39mcopy()\n",
      "\u001b[1;31mNameError\u001b[0m: name 'env' is not defined"
     ]
    }
   ],
   "source": [
    "print(ws.request_uri(\"/test\"))"
   ]
  },
  {
   "cell_type": "code",
   "execution_count": 9,
   "id": "7471d6a9",
   "metadata": {},
   "outputs": [
    {
     "name": "stdout",
     "output_type": "stream",
     "text": [
      "Collecting django\n",
      "  Downloading Django-4.1.7-py3-none-any.whl (8.1 MB)\n",
      "     ---------------------------------------- 0.0/8.1 MB ? eta -:--:--\n",
      "     -- ------------------------------------- 0.4/8.1 MB 13.5 MB/s eta 0:00:01\n",
      "     ---- ----------------------------------- 1.0/8.1 MB 12.6 MB/s eta 0:00:01\n",
      "     ------- -------------------------------- 1.6/8.1 MB 12.9 MB/s eta 0:00:01\n",
      "     ---------- ----------------------------- 2.2/8.1 MB 12.9 MB/s eta 0:00:01\n",
      "     -------------- ------------------------- 2.8/8.1 MB 13.0 MB/s eta 0:00:01\n",
      "     ----------------- ---------------------- 3.5/8.1 MB 13.1 MB/s eta 0:00:01\n",
      "     -------------------- ------------------- 4.1/8.1 MB 13.9 MB/s eta 0:00:01\n",
      "     ----------------------- ---------------- 4.8/8.1 MB 13.8 MB/s eta 0:00:01\n",
      "     -------------------------- ------------- 5.4/8.1 MB 13.7 MB/s eta 0:00:01\n",
      "     ----------------------------- ---------- 6.0/8.1 MB 13.8 MB/s eta 0:00:01\n",
      "     -------------------------------- ------- 6.7/8.1 MB 13.8 MB/s eta 0:00:01\n",
      "     ----------------------------------- ---- 7.2/8.1 MB 13.6 MB/s eta 0:00:01\n",
      "     -------------------------------------- - 7.8/8.1 MB 13.4 MB/s eta 0:00:01\n",
      "     ---------------------------------------  8.1/8.1 MB 13.3 MB/s eta 0:00:01\n",
      "     ---------------------------------------- 8.1/8.1 MB 12.3 MB/s eta 0:00:00\n",
      "Collecting tzdata\n",
      "  Downloading tzdata-2022.7-py2.py3-none-any.whl (340 kB)\n",
      "     ---------------------------------------- 0.0/340.1 kB ? eta -:--:--\n",
      "     ------------------------------------- 340.1/340.1 kB 20.6 MB/s eta 0:00:00\n",
      "Collecting sqlparse>=0.2.2\n",
      "  Downloading sqlparse-0.4.3-py3-none-any.whl (42 kB)\n",
      "     ---------------------------------------- 0.0/42.8 kB ? eta -:--:--\n",
      "     ---------------------------------------- 42.8/42.8 kB ? eta 0:00:00\n",
      "Collecting asgiref<4,>=3.5.2\n",
      "  Downloading asgiref-3.6.0-py3-none-any.whl (23 kB)\n",
      "Installing collected packages: tzdata, sqlparse, asgiref, django\n",
      "Successfully installed asgiref-3.6.0 django-4.1.7 sqlparse-0.4.3 tzdata-2022.7\n"
     ]
    }
   ],
   "source": []
  },
  {
   "cell_type": "code",
   "execution_count": null,
   "id": "62b86c83",
   "metadata": {},
   "outputs": [],
   "source": []
  }
 ],
 "metadata": {
  "kernelspec": {
   "display_name": "Python 3 (ipykernel)",
   "language": "python",
   "name": "python3"
  },
  "language_info": {
   "codemirror_mode": {
    "name": "ipython",
    "version": 3
   },
   "file_extension": ".py",
   "mimetype": "text/x-python",
   "name": "python",
   "nbconvert_exporter": "python",
   "pygments_lexer": "ipython3",
   "version": "3.9.16"
  }
 },
 "nbformat": 4,
 "nbformat_minor": 5
}
