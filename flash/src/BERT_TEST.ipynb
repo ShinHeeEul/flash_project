{
 "cells": [
  {
   "cell_type": "code",
   "execution_count": 17,
   "id": "f415fc93",
   "metadata": {},
   "outputs": [],
   "source": [
    "#-*-coding:utf-8 -*-"
   ]
  },
  {
   "cell_type": "code",
   "execution_count": 2,
   "id": "1e4414ea",
   "metadata": {},
   "outputs": [],
   "source": [
    "import torch\n",
    "import tensorflow as tf\n",
    "\n",
    "from transformers import BertTokenizer\n",
    "from transformers import BertForSequenceClassification, AdamW, BertConfig\n",
    "from transformers import get_linear_schedule_with_warmup\n",
    "#에러 발생시 위 코드 주석으로 대체\n",
    "#from transformers import WarmupLinearSchedule as get_linear_schedule_with_warmup\n",
    "from torch.utils.data import TensorDataset, DataLoader, RandomSampler, SequentialSampler\n",
    "from keras_preprocessing.sequence import pad_sequences\n",
    "from sklearn.model_selection import train_test_split\n",
    "\n",
    "import pandas as pd\n",
    "import numpy as np\n",
    "import random\n",
    "import time\n",
    "import datetime\n",
    "\n",
    "import csv"
   ]
  },
  {
   "cell_type": "code",
   "execution_count": 6,
   "id": "fc45d04e",
   "metadata": {},
   "outputs": [
    {
     "name": "stdout",
     "output_type": "stream",
     "text": [
      "1\n"
     ]
    }
   ],
   "source": [
    "n_devices = torch.cuda.device_count()\n",
    "print(n_devices)"
   ]
  },
  {
   "cell_type": "code",
   "execution_count": 8,
   "id": "ad835051",
   "metadata": {},
   "outputs": [
    {
     "name": "stdout",
     "output_type": "stream",
     "text": [
      "NVIDIA GeForce GTX 1060\n"
     ]
    }
   ],
   "source": [
    "for i in range(n_devices):\n",
    "    print(torch.cuda.get_device_name(i))"
   ]
  },
  {
   "cell_type": "code",
   "execution_count": 23,
   "id": "bc1a11c3",
   "metadata": {},
   "outputs": [],
   "source": [
    "import csv\n",
    "import pandas as pd\n",
    "\n",
    "#데이터 읽어오기, csv파일 위치 추가\n",
    "chatbot_data = pd.read_csv()\n",
    "#데이터 밸런싱을 신경써서 섞기\n",
    "chatbot_data_shuffled = chatbot_data.sample(frace=1).reset_index(drop=True)\n",
    "#훈련데이터와 테스트데이터 나누기\n",
    "train = chatbot_data_shuffled[:9000]\n",
    "test = chatbot_data_shuffled[9000:]\n",
    "#문장의 앞마다 [CLS], 문장 종료는 [SEP]를 붙여 인식시킨다.\n",
    "sentences = [\"[CLS] \" + str(s) + \" [SEP]\" for s in train.Q]\n",
    "\n",
    "#제대로 들어갔나 확인\n",
    "#sentences[:5]\n",
    "#0과 1이 들어간 라벨 컬럼은 array에 따로 저장\n",
    "labels = train['label'].values"
   ]
  },
  {
   "cell_type": "code",
   "execution_count": null,
   "id": "f2b7ac86",
   "metadata": {},
   "outputs": [],
   "source": [
    "import pandas as pd\n",
    "from transformers import BertTokenizer\n",
    "\n",
    "#BERT에서 사용하는 토크나이저 WordPiece\n",
    "# 단어를 토큰화할 때, 단어 집합에 없는 단어는 더 쪼개서 ##을 붙여주는 방식\n",
    "tokenizer = BertTokenizer.from_pretrained(\"bert-base-multilingual-cased\",\n",
    "                                          do_lower_case=False)\n",
    "\n",
    "#안녕하세요에 이를 적용\n",
    "#현재 단어집합에 단어가 없으므로 ##을 붙임으로써 \n",
    "#녕하세요가 어떠한 단어의 서브워드라는 것을 나타내줌\n",
    "result = tokenizer.tokenize(\"안녕하세요\")\n",
    "print(result)\n",
    "\n",
    "#WordPiece 토크나이저를 이용해 전체 데이터에 토크나이징 수행\n",
    "tokenizer = BertTokenizer.from_pretrained('bert-base-multingual-cased',\n",
    "                                         do_lower_case=False)\n",
    "tokenized_texts = [tokenizer.tokenize(s) for s in sentences]\n",
    "\n",
    "print(sentences[0])  #토크나이징 전\n",
    "print(tokenized_texts[0]) #토크나이징 후"
   ]
  },
  {
   "cell_type": "code",
   "execution_count": 10,
   "id": "80c9f817",
   "metadata": {},
   "outputs": [
    {
     "ename": "ModuleNotFoundError",
     "evalue": "No module named 'websockets'",
     "output_type": "error",
     "traceback": [
      "\u001b[1;31m---------------------------------------------------------------------------\u001b[0m",
      "\u001b[1;31mModuleNotFoundError\u001b[0m                       Traceback (most recent call last)",
      "\u001b[1;32m<ipython-input-10-744ec561607e>\u001b[0m in \u001b[0;36m<module>\u001b[1;34m\u001b[0m\n\u001b[0;32m      1\u001b[0m \u001b[1;32mimport\u001b[0m \u001b[0masyncio\u001b[0m\u001b[1;33m\u001b[0m\u001b[1;33m\u001b[0m\u001b[0m\n\u001b[1;32m----> 2\u001b[1;33m \u001b[1;32mimport\u001b[0m \u001b[0mwebsockets\u001b[0m\u001b[1;33m\u001b[0m\u001b[1;33m\u001b[0m\u001b[0m\n\u001b[0m\u001b[0;32m      3\u001b[0m \u001b[1;33m\u001b[0m\u001b[0m\n\u001b[0;32m      4\u001b[0m \u001b[1;32masync\u001b[0m \u001b[1;32mdef\u001b[0m \u001b[0mecho\u001b[0m\u001b[1;33m(\u001b[0m\u001b[0mwebsocket\u001b[0m\u001b[1;33m,\u001b[0m \u001b[0mpath\u001b[0m\u001b[1;33m)\u001b[0m\u001b[1;33m:\u001b[0m\u001b[1;33m\u001b[0m\u001b[1;33m\u001b[0m\u001b[0m\n\u001b[0;32m      5\u001b[0m     \u001b[1;32masync\u001b[0m \u001b[1;32mfor\u001b[0m \u001b[0mmessage\u001b[0m \u001b[1;32min\u001b[0m \u001b[0mwebsocket\u001b[0m\u001b[1;33m:\u001b[0m\u001b[1;33m\u001b[0m\u001b[1;33m\u001b[0m\u001b[0m\n",
      "\u001b[1;31mModuleNotFoundError\u001b[0m: No module named 'websockets'"
     ]
    }
   ],
   "source": [
    "import asyncio\n",
    "import websockets\n",
    "\n",
    "async def echo(websocket, path):\n",
    "    async for message in websocket:\n",
    "        print(message)\n",
    "        # message를 분석하여 주피터 노트북으로 값을 전달하는 코드 작성\n",
    "        #분석\n",
    "        websocket.send_text(f\"Message text was: {data}\")\n",
    "\n",
    "async def main():\n",
    "    async with websockets.serve(echo, \"localhost\", 8765):\n",
    "        await asyncio.Future()  # 서버가 계속 실행되도록 대기\n",
    "\n",
    "# 현재 실행 중인 이벤트 루프 가져오기\n",
    "loop = asyncio.get_event_loop()\n",
    "\n",
    "# 이벤트 루프에서 비동기 코드 실행\n",
    "loop.create_task(main())"
   ]
  },
  {
   "cell_type": "code",
   "execution_count": null,
   "id": "a3562665",
   "metadata": {},
   "outputs": [],
   "source": []
  },
  {
   "cell_type": "code",
   "execution_count": null,
   "id": "a8d9dda5",
   "metadata": {},
   "outputs": [],
   "source": []
  }
 ],
 "metadata": {
  "kernelspec": {
   "display_name": "Python 3 (ipykernel)",
   "language": "python",
   "name": "python3"
  },
  "language_info": {
   "codemirror_mode": {
    "name": "ipython",
    "version": 3
   },
   "file_extension": ".py",
   "mimetype": "text/x-python",
   "name": "python",
   "nbconvert_exporter": "python",
   "pygments_lexer": "ipython3",
   "version": "3.9.16"
  }
 },
 "nbformat": 4,
 "nbformat_minor": 5
}
