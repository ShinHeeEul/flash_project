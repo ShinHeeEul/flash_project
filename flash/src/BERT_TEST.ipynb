{
 "cells": [
  {
   "cell_type": "code",
   "execution_count": 17,
   "id": "f415fc93",
   "metadata": {},
   "outputs": [],
   "source": [
    "#-*-coding:utf-8 -*-"
   ]
  },
  {
   "cell_type": "code",
   "execution_count": 8,
   "id": "1e4414ea",
   "metadata": {},
   "outputs": [],
   "source": [
    "import torch\n",
    "import tensorflow as tf\n",
    "\n",
    "from transformers import BertTokenizer\n",
    "from transformers import BertForSequenceClassification, AdamW, BertConfig\n",
    "from transformers import get_linear_schedule_with_warmup\n",
    "#에러 발생시 위 코드 주석으로 대체\n",
    "#from transformers import WarmupLinearSchedule as get_linear_schedule_with_warmup\n",
    "from torch.utils.data import TensorDataset, DataLoader, RandomSampler, SequentialSampler\n",
    "from keras_preprocessing.sequence import pad_sequences\n",
    "from sklearn.model_selection import train_test_split\n",
    "\n",
    "import pandas as pd\n",
    "import numpy as np\n",
    "import random\n",
    "import time\n",
    "import datetime\n",
    "\n",
    "import csv"
   ]
  },
  {
   "cell_type": "code",
   "execution_count": 9,
   "id": "fc45d04e",
   "metadata": {},
   "outputs": [
    {
     "name": "stdout",
     "output_type": "stream",
     "text": [
      "0\n"
     ]
    }
   ],
   "source": [
    "n_devices = torch.cuda.device_count()\n",
    "print(n_devices)"
   ]
  },
  {
   "cell_type": "code",
   "execution_count": 10,
   "id": "ad835051",
   "metadata": {},
   "outputs": [],
   "source": [
    "for i in range(n_devices):\n",
    "    print(torch.cuda.get_device_name(i))"
   ]
  },
  {
   "cell_type": "code",
   "execution_count": 11,
   "id": "bc1a11c3",
   "metadata": {},
   "outputs": [
    {
     "ename": "TypeError",
     "evalue": "read_csv() missing 1 required positional argument: 'filepath_or_buffer'",
     "output_type": "error",
     "traceback": [
      "\u001b[1;31m---------------------------------------------------------------------------\u001b[0m",
      "\u001b[1;31mTypeError\u001b[0m                                 Traceback (most recent call last)",
      "Cell \u001b[1;32mIn[11], line 5\u001b[0m\n\u001b[0;32m      2\u001b[0m \u001b[38;5;28;01mimport\u001b[39;00m \u001b[38;5;21;01mpandas\u001b[39;00m \u001b[38;5;28;01mas\u001b[39;00m \u001b[38;5;21;01mpd\u001b[39;00m\n\u001b[0;32m      4\u001b[0m \u001b[38;5;66;03m#데이터 읽어오기, csv파일 위치 추가\u001b[39;00m\n\u001b[1;32m----> 5\u001b[0m chatbot_data \u001b[38;5;241m=\u001b[39m \u001b[43mpd\u001b[49m\u001b[38;5;241;43m.\u001b[39;49m\u001b[43mread_csv\u001b[49m\u001b[43m(\u001b[49m\u001b[43m)\u001b[49m\n\u001b[0;32m      6\u001b[0m \u001b[38;5;66;03m#데이터 밸런싱을 신경써서 섞기\u001b[39;00m\n\u001b[0;32m      7\u001b[0m chatbot_data_shuffled \u001b[38;5;241m=\u001b[39m chatbot_data\u001b[38;5;241m.\u001b[39msample(frace\u001b[38;5;241m=\u001b[39m\u001b[38;5;241m1\u001b[39m)\u001b[38;5;241m.\u001b[39mreset_index(drop\u001b[38;5;241m=\u001b[39m\u001b[38;5;28;01mTrue\u001b[39;00m)\n",
      "File \u001b[1;32m~\\anaconda3\\lib\\site-packages\\pandas\\util\\_decorators.py:211\u001b[0m, in \u001b[0;36mdeprecate_kwarg.<locals>._deprecate_kwarg.<locals>.wrapper\u001b[1;34m(*args, **kwargs)\u001b[0m\n\u001b[0;32m    209\u001b[0m     \u001b[38;5;28;01melse\u001b[39;00m:\n\u001b[0;32m    210\u001b[0m         kwargs[new_arg_name] \u001b[38;5;241m=\u001b[39m new_arg_value\n\u001b[1;32m--> 211\u001b[0m \u001b[38;5;28;01mreturn\u001b[39;00m func(\u001b[38;5;241m*\u001b[39margs, \u001b[38;5;241m*\u001b[39m\u001b[38;5;241m*\u001b[39mkwargs)\n",
      "File \u001b[1;32m~\\anaconda3\\lib\\site-packages\\pandas\\util\\_decorators.py:331\u001b[0m, in \u001b[0;36mdeprecate_nonkeyword_arguments.<locals>.decorate.<locals>.wrapper\u001b[1;34m(*args, **kwargs)\u001b[0m\n\u001b[0;32m    325\u001b[0m \u001b[38;5;28;01mif\u001b[39;00m \u001b[38;5;28mlen\u001b[39m(args) \u001b[38;5;241m>\u001b[39m num_allow_args:\n\u001b[0;32m    326\u001b[0m     warnings\u001b[38;5;241m.\u001b[39mwarn(\n\u001b[0;32m    327\u001b[0m         msg\u001b[38;5;241m.\u001b[39mformat(arguments\u001b[38;5;241m=\u001b[39m_format_argument_list(allow_args)),\n\u001b[0;32m    328\u001b[0m         \u001b[38;5;167;01mFutureWarning\u001b[39;00m,\n\u001b[0;32m    329\u001b[0m         stacklevel\u001b[38;5;241m=\u001b[39mfind_stack_level(),\n\u001b[0;32m    330\u001b[0m     )\n\u001b[1;32m--> 331\u001b[0m \u001b[38;5;28;01mreturn\u001b[39;00m func(\u001b[38;5;241m*\u001b[39margs, \u001b[38;5;241m*\u001b[39m\u001b[38;5;241m*\u001b[39mkwargs)\n",
      "\u001b[1;31mTypeError\u001b[0m: read_csv() missing 1 required positional argument: 'filepath_or_buffer'"
     ]
    }
   ],
   "source": [
    "import csv\n",
    "import pandas as pd\n",
    "\n",
    "#데이터 읽어오기, csv파일 위치 추가\n",
    "chatbot_data = pd.read_csv(\"CSV 파일 위치\")\n",
    "#데이터 밸런싱을 신경써서 섞기\n",
    "chatbot_data_shuffled = chatbot_data.sample(frace=1).reset_index(drop=True)\n",
    "#훈련데이터와 테스트데이터 나누기\n",
    "train = chatbot_data_shuffled[:9000]\n",
    "test = chatbot_data_shuffled[9000:]\n",
    "#문장의 앞마다 [CLS], 문장 종료는 [SEP]를 붙여 인식시킨다.\n",
    "sentences = [\"[CLS] \" + str(s) + \" [SEP]\" for s in train.Q]\n",
    "\n",
    "#제대로 들어갔나 확인\n",
    "#sentences[:5]\n",
    "#0과 1이 들어간 라벨 컬럼은 array에 따로 저장\n",
    "labels = train['label'].values"
   ]
  },
  {
   "cell_type": "code",
   "execution_count": null,
   "id": "f2b7ac86",
   "metadata": {},
   "outputs": [],
   "source": [
    "import pandas as pd\n",
    "from transformers import BertTokenizer\n",
    "\n",
    "#BERT에서 사용하는 토크나이저 WordPiece\n",
    "# 단어를 토큰화할 때, 단어 집합에 없는 단어는 더 쪼개서 ##을 붙여주는 방식\n",
    "tokenizer = BertTokenizer.from_pretrained(\"bert-base-multilingual-cased\",\n",
    "                                          do_lower_case=False)\n",
    "\n",
    "#안녕하세요에 이를 적용\n",
    "#현재 단어집합에 단어가 없으므로 ##을 붙임으로써 \n",
    "#녕하세요가 어떠한 단어의 서브워드라는 것을 나타내줌\n",
    "result = tokenizer.tokenize(\"안녕하세요\")\n",
    "print(result)\n",
    "\n",
    "#WordPiece 토크나이저를 이용해 전체 데이터에 토크나이징 수행\n",
    "##################################################\n",
    "#어떤 모델이든 단어 자체를 텍스트 형식으로 입력할 수 없으니,\n",
    "#단어를 토큰으로 만든뒤 정수 인코딩, 패딩 과정 수행\n",
    "#기본적으로 자주 등장하는 단어를 단어 집합에 추가\n",
    "##################################################\n",
    "tokenizer = BertTokenizer.from_pretrained('bert-base-multilingual-cased',\n",
    "                                         do_lower_case=False)\n",
    "tokenized_texts = [tokenizer.tokenize(s) for s in sentences]\n",
    "\n",
    "print(sentences[0])  #토크나이징 전\n",
    "print(tokenized_texts[0]) #토크나이징 후"
   ]
  },
  {
   "cell_type": "code",
   "execution_count": null,
   "id": "e65e51ef",
   "metadata": {},
   "outputs": [],
   "source": [
    "# 문장의 최대 시퀀스를 설정하여 정수 인코딩과 제로 패딩을 수행\n",
    "MAX_LEN = 128 # 최대 시퀀스 길이 설정\n",
    "\n",
    "input_ids = [tokenizer.convert_tokens_to_ids(x) for x in tokenized_texts]\n",
    "input_ids = pad_sequences(input_ids, maxlen=MAX_LEN, dtype=\"long\",\n",
    "                          truncating=\"post\",\n",
    "                         padding=\"post\")"
   ]
  },
  {
   "cell_type": "code",
   "execution_count": null,
   "id": "97a321fe",
   "metadata": {},
   "outputs": [],
   "source": [
    "attention_masks = []\n",
    "\n",
    "# 어텐션 마스크\n",
    "##################################################\n",
    "## 어텐션이란? \n",
    "#쿼리가 주어졌을 때, 이 쿼리와 \n",
    "#여러 개의 키와의 유사도를 각각 구하고,\n",
    "#구한 유사도를 가중치로 설정하여 각각의 값을 구한 뒤\n",
    "#이 값들을 모두 가중합하여 반환하는 함수\n",
    "######\n",
    "#단어 벡터에 대해 쿼리, 키 값의 가중치 행렬을 곱해주어\n",
    "#쿼리, 키, 값 벡터를 얻어낸다.\n",
    "#그 후 쿼리 벡터에 대해 어텐션 스코어를 구하고,\n",
    "#이를 이용하여 모든 값 벡터를 가중합하여 어텐션 값을 구하게 된다.\n",
    "##################################################\n",
    "## 0 값을 가지는 패딩 토큰에 대해서 \n",
    "## 어텐션 연산을 불필요하게 수행하지 않도록 단어와 \n",
    "## 패딩 토큰을 구분할 수 있게 알려주는 것\n",
    "# 패딩된 데이터가 있을 때 패딩된 값은 0, 패딩되지 않은 단어는 1\n",
    "#어텐션 마스크 생성\n",
    "for seq in input_ids:\n",
    "    seq_mask = [float(i>0) for i in seq]\n",
    "    atteuntion_masks.append(seq_mask)"
   ]
  },
  {
   "cell_type": "code",
   "execution_count": 1,
   "id": "80c9f817",
   "metadata": {},
   "outputs": [
    {
     "data": {
      "text/plain": [
       "<Task pending name='Task-4' coro=<main() running at C:\\Users\\shinheeeul\\AppData\\Local\\Temp\\ipykernel_22368\\4001136174.py:13>>"
      ]
     },
     "execution_count": 1,
     "metadata": {},
     "output_type": "execute_result"
    },
    {
     "name": "stdout",
     "output_type": "stream",
     "text": [
      "test\n"
     ]
    },
    {
     "name": "stderr",
     "output_type": "stream",
     "text": [
      "connection handler failed\n",
      "Traceback (most recent call last):\n",
      "  File \"C:\\Users\\shinheeeul\\anaconda3\\lib\\site-packages\\websockets\\legacy\\protocol.py\", line 968, in transfer_data\n",
      "    message = await self.read_message()\n",
      "  File \"C:\\Users\\shinheeeul\\anaconda3\\lib\\site-packages\\websockets\\legacy\\protocol.py\", line 1038, in read_message\n",
      "    frame = await self.read_data_frame(max_size=self.max_size)\n",
      "  File \"C:\\Users\\shinheeeul\\anaconda3\\lib\\site-packages\\websockets\\legacy\\protocol.py\", line 1113, in read_data_frame\n",
      "    frame = await self.read_frame(max_size)\n",
      "  File \"C:\\Users\\shinheeeul\\anaconda3\\lib\\site-packages\\websockets\\legacy\\protocol.py\", line 1170, in read_frame\n",
      "    frame = await Frame.read(\n",
      "  File \"C:\\Users\\shinheeeul\\anaconda3\\lib\\site-packages\\websockets\\legacy\\framing.py\", line 69, in read\n",
      "    data = await reader(2)\n",
      "  File \"C:\\Users\\shinheeeul\\anaconda3\\lib\\asyncio\\streams.py\", line 723, in readexactly\n",
      "    await self._wait_for_data('readexactly')\n",
      "  File \"C:\\Users\\shinheeeul\\anaconda3\\lib\\asyncio\\streams.py\", line 517, in _wait_for_data\n",
      "    await self._waiter\n",
      "  File \"C:\\Users\\shinheeeul\\anaconda3\\lib\\asyncio\\selector_events.py\", line 854, in _read_ready__data_received\n",
      "    data = self._sock.recv(self.max_size)\n",
      "ConnectionResetError: [WinError 10054] 현재 연결은 원격 호스트에 의해 강제로 끊겼습니다\n",
      "\n",
      "The above exception was the direct cause of the following exception:\n",
      "\n",
      "Traceback (most recent call last):\n",
      "  File \"C:\\Users\\shinheeeul\\anaconda3\\lib\\site-packages\\websockets\\legacy\\server.py\", line 236, in handler\n",
      "    await self.ws_handler(self)\n",
      "  File \"C:\\Users\\shinheeeul\\anaconda3\\lib\\site-packages\\websockets\\legacy\\server.py\", line 1175, in _ws_handler\n",
      "    return await cast(\n",
      "  File \"C:\\Users\\shinheeeul\\AppData\\Local\\Temp\\ipykernel_22368\\4001136174.py\", line 7, in echo\n",
      "    async for message in websocket:\n",
      "  File \"C:\\Users\\shinheeeul\\anaconda3\\lib\\site-packages\\websockets\\legacy\\protocol.py\", line 497, in __aiter__\n",
      "    yield await self.recv()\n",
      "  File \"C:\\Users\\shinheeeul\\anaconda3\\lib\\site-packages\\websockets\\legacy\\protocol.py\", line 568, in recv\n",
      "    await self.ensure_open()\n",
      "  File \"C:\\Users\\shinheeeul\\anaconda3\\lib\\site-packages\\websockets\\legacy\\protocol.py\", line 944, in ensure_open\n",
      "    raise self.connection_closed_exc()\n",
      "websockets.exceptions.ConnectionClosedError: no close frame received or sent\n"
     ]
    }
   ],
   "source": [
    "import asyncio\n",
    "import websockets\n",
    "\n",
    "\n",
    "\n",
    "async def echo(websocket, path):\n",
    "    async for message in websocket:\n",
    "        print(message)\n",
    "        # message를 분석하여 주피터 노트북으로 값을 전달하는 코드 작성\n",
    "        #분석\n",
    "        #await websocket.send_text(f\"Message text was: {data}\")\n",
    "\n",
    "async def main():\n",
    "    async with websockets.serve(echo, \"localhost\", 8765):\n",
    "        await asyncio.Future()  # 서버가 계속 실행되도록 대기\n",
    "\n",
    "# 현재 실행 중인 이벤트 루프 가져오기\n",
    "loop = asyncio.get_event_loop()\n",
    "\n",
    "# 이벤트 루프에서 비동기 코드 실행\n",
    "loop.create_task(main())"
   ]
  },
  {
   "cell_type": "code",
   "execution_count": null,
   "id": "a3562665",
   "metadata": {},
   "outputs": [],
   "source": []
  },
  {
   "cell_type": "code",
   "execution_count": null,
   "id": "a8d9dda5",
   "metadata": {},
   "outputs": [],
   "source": []
  }
 ],
 "metadata": {
  "kernelspec": {
   "display_name": "Python 3 (ipykernel)",
   "language": "python",
   "name": "python3"
  },
  "language_info": {
   "codemirror_mode": {
    "name": "ipython",
    "version": 3
   },
   "file_extension": ".py",
   "mimetype": "text/x-python",
   "name": "python",
   "nbconvert_exporter": "python",
   "pygments_lexer": "ipython3",
   "version": "3.9.16"
  }
 },
 "nbformat": 4,
 "nbformat_minor": 5
}
